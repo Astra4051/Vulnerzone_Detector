{
  "nbformat": 4,
  "nbformat_minor": 0,
  "metadata": {
    "colab": {
      "provenance": [],
      "authorship_tag": "ABX9TyNish4Bzz33KcX9cLPh4JEM",
      "include_colab_link": true
    },
    "kernelspec": {
      "name": "python3",
      "display_name": "Python 3"
    },
    "language_info": {
      "name": "python"
    }
  },
  "cells": [
    {
      "cell_type": "markdown",
      "metadata": {
        "id": "view-in-github",
        "colab_type": "text"
      },
      "source": [
        "<a href=\"https://colab.research.google.com/github/Astra4051/Vulnerzone_Detector/blob/main/Vulnerzone_Detector_CODE.ipynb\" target=\"_parent\"><img src=\"https://colab.research.google.com/assets/colab-badge.svg\" alt=\"Open In Colab\"/></a>"
      ]
    },
    {
      "cell_type": "code",
      "execution_count": null,
      "metadata": {
        "id": "gci-UqidczcE"
      },
      "outputs": [],
      "source": [
        "import tensorflow as tf\n",
        "from tensorflow.keras.layers import Input, Conv2D, MaxPooling2D, Flatten, Dense, Dropout\n",
        "from tensorflow.keras.models import Model\n",
        "from tensorflow.keras.preprocessing.image import ImageDataGenerator\n",
        "from google.colab import drive\n",
        "import os\n",
        "import cv2\n",
        "import numpy as np\n",
        "\n",
        "# GPU 설정\n",
        "physical_devices = tf.config.experimental.list_physical_devices('GPU')\n",
        "if len(physical_devices) > 0:\n",
        "    tf.config.experimental.set_memory_growth(physical_devices[0], True)\n",
        "\n",
        "# 구글 드라이브 마운트\n",
        "drive.mount('/content/drive')\n",
        "\n",
        "# 데이터 경로 설정\n",
        "data_dir = '/content/drive/MyDrive'  # 데이터셋 폴더 경로로 변경"
      ]
    },
    {
      "cell_type": "code",
      "source": [
        "from tensorflow.keras.preprocessing.image import load_img, img_to_array\n",
        "\n",
        "# 모델 로드\n",
        "model_path = '/content/drive/MyDrive/Vulnerzone Detector Model.h5'\n",
        "loaded_model = tf.keras.models.load_model(model_path)\n",
        "\n",
        "# 이미지 경로 설정\n",
        "test_image_path = '/content/drive/MyDrive/TestImage.png'\n",
        "image_size = (224, 224)\n",
        "\n",
        "# 이미지 로드 및 전처리\n",
        "image = load_img(test_image_path, target_size=image_size)\n",
        "image_array = img_to_array(image) / 255.0  # 이미지를 [0, 1] 범위로 스케일링\n",
        "image_array = np.expand_dims(image_array, axis=0)  # 배치 차원 추가\n",
        "\n",
        "# 모델 예측\n",
        "prediction = loaded_model.predict(image_array)\n",
        "\n",
        "# 취약한 부분 표시 함수 정의\n",
        "def mark_individual_vulnerabilities(image_path, prediction):\n",
        "    image = cv2.imread(image_path)\n",
        "    vulnerability_mask = cv2.resize(np.uint8(prediction[0] * 255), (image.shape[1], image.shape[0]))\n",
        "    threshold = 0.8\n",
        "\n",
        "    if np.max(prediction) >= threshold:\n",
        "        # 취약한 부분을 표시할 마스크 생성\n",
        "        marked_mask = (vulnerability_mask > threshold * 255).astype(np.uint8)\n",
        "\n",
        "        # 각 취약한 부분마다 네모 박스 그리기\n",
        "        contours, _ = cv2.findContours(marked_mask, cv2.RETR_EXTERNAL, cv2.CHAIN_APPROX_SIMPLE)\n",
        "        marked_image = image.copy()\n",
        "        for contour in contours:\n",
        "            x, y, w, h = cv2.boundingRect(contour)\n",
        "            color = (0, 0, 255)  # 빨간색\n",
        "            thickness = 2\n",
        "            marked_image = cv2.rectangle(marked_image, (x, y), (x + w, y + h), color, thickness)\n",
        "\n",
        "        marked_image_path = '/content/drive/MyDrive/MarkedImages/marked_image.png'\n",
        "        cv2.imwrite(marked_image_path, marked_image)\n",
        "        print(\"Marked image saved at:\", marked_image_path)\n",
        "    else:\n",
        "        print(\"No vulnerability detected.\")\n",
        "\n",
        "# 이미지에 취약한 부분 표시\n",
        "mark_individual_vulnerabilities(test_image_path, prediction)"
      ],
      "metadata": {
        "id": "syW9keBqc4Iw"
      },
      "execution_count": null,
      "outputs": []
    }
  ]
}